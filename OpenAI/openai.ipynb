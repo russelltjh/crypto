{
 "cells": [
  {
   "attachments": {},
   "cell_type": "markdown",
   "metadata": {},
   "source": [
    "# OpenAI API\n",
    "Documentation: <br>\n",
    "https://platform.openai.com/docs/libraries <br>\n",
    "https://github.com/openai/openai-python <br>"
   ]
  },
  {
   "attachments": {},
   "cell_type": "markdown",
   "metadata": {},
   "source": [
    "### Models\n",
    "https://platform.openai.com/docs/models <br>\n",
    "\n",
    "- GPT-3.5:\n",
    "    - text-davinci-003\n",
    "        - Can do any language task with better quality, longer output, and consistent instruction-following. Also supports inserting completions within text\n",
    "    - gpt-3.5-turbo\n",
    "        - Most capable GPT3.5 model and optimized for chat at 1/10th the cost of text-davinci-003\n",
    "        - $0.002 / 1K tokens\n",
    "- GPT-4:\n",
    "    - gpt-4\n",
    "        - More capable than GPT-3.5, able to do more complex task and optimized for chat.\n",
    "        - More expensive and requires a waitlist\n"
   ]
  },
  {
   "attachments": {},
   "cell_type": "markdown",
   "metadata": {},
   "source": [
    "### Setup and Testing"
   ]
  },
  {
   "cell_type": "code",
   "execution_count": 18,
   "metadata": {},
   "outputs": [],
   "source": [
    "import openai\n",
    "import os\n",
    "import dotenv"
   ]
  },
  {
   "cell_type": "code",
   "execution_count": 80,
   "metadata": {},
   "outputs": [],
   "source": [
    "dotenv.load_dotenv()\n",
    "openai.api_key = os.getenv(\"OPEN_API_KEY\")"
   ]
  },
  {
   "attachments": {},
   "cell_type": "markdown",
   "metadata": {},
   "source": [
    "### Completion"
   ]
  },
  {
   "cell_type": "code",
   "execution_count": 79,
   "metadata": {},
   "outputs": [],
   "source": [
    "prompt = \"\"\"\n",
    "Name: John Smith,\n",
    "Age: 34,\n",
    "Phone: 068723462,\n",
    "Bank account: 423244409512, \n",
    "Cash Balance: $324, \n",
    "Expiry Date: '23/01/2026', \n",
    "Address: Bangkok Khlong Toei\n",
    "\n",
    "Output the Bank account, balance and expiry date information with the format below\n",
    "Account:\n",
    "Balance: \n",
    "Expiry Date: \n",
    "\"\"\"\n",
    "response = openai.Completion.create(model=\"text-davinci-003\", prompt=prompt, temperature=0)"
   ]
  },
  {
   "cell_type": "code",
   "execution_count": 75,
   "metadata": {},
   "outputs": [
    {
     "name": "stdout",
     "output_type": "stream",
     "text": [
      "\n",
      "Account: 423244409512\n",
      "Balance: $324\n",
      "Expir\n",
      "Tokens Used: 109\n"
     ]
    }
   ],
   "source": [
    "print(response[\"choices\"][0][\"text\"])\n",
    "print(\"Tokens Used: \" + str(response[\"usage\"][\"total_tokens\"]))"
   ]
  },
  {
   "cell_type": "code",
   "execution_count": 65,
   "metadata": {},
   "outputs": [
    {
     "name": "stdout",
     "output_type": "stream",
     "text": [
      "{\n",
      "  \"choices\": [\n",
      "    {\n",
      "      \"finish_reason\": \"stop\",\n",
      "      \"index\": 0,\n",
      "      \"logprobs\": null,\n",
      "      \"text\": \"\"\n",
      "    }\n",
      "  ],\n",
      "  \"created\": 1685442498,\n",
      "  \"id\": \"cmpl-7LqsMjwVPMdmqrCIDfyVrHV6ZF9Sc\",\n",
      "  \"model\": \"text-davinci-003\",\n",
      "  \"object\": \"text_completion\",\n",
      "  \"usage\": {\n",
      "    \"prompt_tokens\": 101,\n",
      "    \"total_tokens\": 101\n",
      "  }\n",
      "}\n"
     ]
    }
   ],
   "source": [
    "print(response)"
   ]
  },
  {
   "attachments": {},
   "cell_type": "markdown",
   "metadata": {},
   "source": [
    "### Chat Completion"
   ]
  },
  {
   "cell_type": "code",
   "execution_count": 89,
   "metadata": {},
   "outputs": [],
   "source": [
    "prompt = \"\"\"\n",
    "Name: John Smith,\n",
    "Age: 34,\n",
    "Phone: 068723462,\n",
    "Bank account: 423244409512, \n",
    "Cash Balance: $324, \n",
    "Expiry Date: '23/01/2026', \n",
    "Address: Bangkok Khlong Toei\n",
    "\n",
    "Output the Bank account, balance and expiry date information with the format below\n",
    "Account:\n",
    "Balance: \n",
    "Expiry Date: \n",
    "\"\"\"\n",
    "response = openai.ChatCompletion.create(model=\"gpt-3.5-turbo\", messages=[{\"role\": \"user\", \"content\": prompt}], temperature=0)"
   ]
  },
  {
   "cell_type": "code",
   "execution_count": 90,
   "metadata": {},
   "outputs": [
    {
     "name": "stdout",
     "output_type": "stream",
     "text": [
      "Account: 423244409512\n",
      "Balance: $324\n",
      "Expiry Date: 23/01/2026\n",
      "Tokens Used: 113\n"
     ]
    }
   ],
   "source": [
    "print(response[\"choices\"][0][\"message\"][\"content\"])\n",
    "print(\"Tokens Used: \" + str(response[\"usage\"][\"total_tokens\"]))"
   ]
  },
  {
   "cell_type": "code",
   "execution_count": 91,
   "metadata": {},
   "outputs": [
    {
     "name": "stdout",
     "output_type": "stream",
     "text": [
      "{\n",
      "  \"choices\": [\n",
      "    {\n",
      "      \"finish_reason\": \"stop\",\n",
      "      \"index\": 0,\n",
      "      \"message\": {\n",
      "        \"content\": \"Account: 423244409512\\nBalance: $324\\nExpiry Date: 23/01/2026\",\n",
      "        \"role\": \"assistant\"\n",
      "      }\n",
      "    }\n",
      "  ],\n",
      "  \"created\": 1685442786,\n",
      "  \"id\": \"chatcmpl-7Lqx0rbL656iCC75QoLZyU71b7cOc\",\n",
      "  \"model\": \"gpt-3.5-turbo-0301\",\n",
      "  \"object\": \"chat.completion\",\n",
      "  \"usage\": {\n",
      "    \"completion_tokens\": 24,\n",
      "    \"prompt_tokens\": 89,\n",
      "    \"total_tokens\": 113\n",
      "  }\n",
      "}\n"
     ]
    }
   ],
   "source": [
    "print(response)"
   ]
  },
  {
   "attachments": {},
   "cell_type": "markdown",
   "metadata": {},
   "source": [
    "### Image Generation"
   ]
  },
  {
   "cell_type": "code",
   "execution_count": 94,
   "metadata": {},
   "outputs": [],
   "source": [
    "prompt = \"piece of paper that says 'Hello World'\"\n",
    "image_resp = openai.Image.create(prompt=prompt, n=4, size=\"512x512\")"
   ]
  },
  {
   "cell_type": "code",
   "execution_count": 95,
   "metadata": {},
   "outputs": [],
   "source": [
    "# Save image as a file \n",
    "import requests\n",
    "\n",
    "image_url = image_resp['data'][0]['url']\n",
    "\n",
    "response = requests.get(image_url)\n",
    "\n",
    "with open('image.png', 'wb') as f:\n",
    "    f.write(response.content)"
   ]
  },
  {
   "cell_type": "code",
   "execution_count": null,
   "metadata": {},
   "outputs": [],
   "source": []
  }
 ],
 "metadata": {
  "kernelspec": {
   "display_name": "Python 3",
   "language": "python",
   "name": "python3"
  },
  "language_info": {
   "codemirror_mode": {
    "name": "ipython",
    "version": 3
   },
   "file_extension": ".py",
   "mimetype": "text/x-python",
   "name": "python",
   "nbconvert_exporter": "python",
   "pygments_lexer": "ipython3",
   "version": "3.10.11"
  },
  "orig_nbformat": 4
 },
 "nbformat": 4,
 "nbformat_minor": 2
}
